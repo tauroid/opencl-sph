{
 "cells": [
  {
   "cell_type": "markdown",
   "metadata": {},
   "source": [
    "# Strain solid run through - non-linear model\n",
    "\n",
    "The stages of the algorithm are as follows:\n",
    "\n",
    "* Compute local rotation\n",
    "* Compute local strain\n",
    "* Compute local stress\n",
    "* Compute unbalanced forces on particles\n",
    "* Move the particles according to these forces\n",
    "\n",
    "This notebook will analyse the results of each of these stages in a simple strain test case (apart from rotation and movement) by comparing them to the analytical model being approximated."
   ]
  },
  {
   "cell_type": "markdown",
   "metadata": {},
   "source": [
    "First we set up the particle system:"
   ]
  },
  {
   "cell_type": "code",
   "execution_count": null,
   "metadata": {
    "collapsed": true
   },
   "outputs": [],
   "source": [
    "import os\n",
    "\n",
    "os.chdir('..')"
   ]
  },
  {
   "cell_type": "code",
   "execution_count": null,
   "metadata": {
    "collapsed": true
   },
   "outputs": [],
   "source": [
    "from scripts import sph\n",
    "from scripts.sph import systems\n",
    "import scripts.sph.bindings as bnd\n",
    "\n",
    "bnd.set_log_level(2)\n",
    "sph.init_opencl()\n",
    "\n",
    "ss = systems.SVKSolid()"
   ]
  },
  {
   "cell_type": "markdown",
   "metadata": {},
   "source": [
    "Then the common parameters we'll be using (making sure to collect strain, stress and force in the output):"
   ]
  },
  {
   "cell_type": "code",
   "execution_count": null,
   "metadata": {},
   "outputs": [],
   "source": [
    "import numpy as np\n",
    "\n",
    "results_dir = \"results/svk\"\n",
    "\n",
    "strain_range = np.linspace(-0.5, 0.5, num=15)\n",
    "axis = 0\n",
    "otheraxis1 = (axis + 1) % 3\n",
    "otheraxis2 = (axis + 2) % 3\n",
    "\n",
    "straintest_params = {\n",
    "    \"strain_range\": strain_range,\n",
    "    \"axis\": axis,\n",
    "    \"strain_rate\": 0.07,\n",
    "    \"stabilisation_time\": 10.0,\n",
    "    \"initial_dimensions\": np.array([0.6, 0.6, 0.6]),\n",
    "    \"total_mass\": 6.0,\n",
    "    \"strain_solid\": ss,\n",
    "    \"output_fields\": [\"deformation\", \"stress\", \"force\", \"cutoff_force\", \"density\"],\n",
    "    \"history_particles\": \"all\",\n",
    "    \"history_fields\": [\"position\", \"stress\", \"density\", \"force_elastic\", \"force_viscous\", \"deformation\"],\n",
    "    \"output_folder\": results_dir\n",
    "}"
   ]
  },
  {
   "cell_type": "markdown",
   "metadata": {},
   "source": [
    "We run some tests (this takes a while):"
   ]
  },
  {
   "cell_type": "code",
   "execution_count": null,
   "metadata": {},
   "outputs": [],
   "source": [
    "from scripts.straintest import StrainTestSymPadding\n",
    "\n",
    "histories = []\n",
    "outputs = []\n",
    "\n",
    "for i in range(4, 5):\n",
    "    x, y, z = np.meshgrid(np.arange(i), np.arange(i), np.arange(i), indexing='ij')\n",
    "    \n",
    "    all_particles = np.vstack((x.flatten(), y.flatten(), z.flatten())).T\n",
    "    straintest_params['output_particles'] = all_particles\n",
    "    straintest_params['particle_dimensions'] = np.array([i, i, i])\n",
    "    straintest_params['output_folder'] = os.path.join(results_dir, \"whole_{}\".format(i))\n",
    "    straintest_params['smoothingradius'] = np.min(straintest_params['initial_dimensions'])/(i-1)\n",
    "    \n",
    "    ss.free()\n",
    "    \n",
    "    st = StrainTestSymPadding(**straintest_params)\n",
    "    \n",
    "    st.run()\n",
    "    \n",
    "    histories.append(st.history)\n",
    "    outputs.append(st.output)"
   ]
  },
  {
   "cell_type": "markdown",
   "metadata": {},
   "source": [
    "### Results"
   ]
  },
  {
   "cell_type": "code",
   "execution_count": null,
   "metadata": {},
   "outputs": [],
   "source": [
    "%matplotlib notebook\n",
    "\n",
    "import matplotlib.pyplot as plt"
   ]
  },
  {
   "cell_type": "markdown",
   "metadata": {},
   "source": [
    "Density first: average density by strain"
   ]
  },
  {
   "cell_type": "code",
   "execution_count": null,
   "metadata": {},
   "outputs": [],
   "source": [
    "plt.figure(figsize=(6, 4))\n",
    "\n",
    "for i in range(3, 10):\n",
    "    density = np.lib.format.open_memmap(os.path.join(results_dir, \"whole_{}/density_output.npy\".format(i)))\n",
    "    \n",
    "    line, = plt.plot(strain_range, density.sum(1)/density.shape[1])\n",
    "    line.set_label(\"{}x{}x{}\".format(i, i, i))\n",
    "    plt.legend()\n",
    "\n",
    "initdims = straintest_params[\"initial_dimensions\"]\n",
    "total_mass = straintest_params[\"total_mass\"]\n",
    "poisson = ss.get_fields(\"poisson\")[0]\n",
    "line, = plt.plot(strain_range, total_mass/(1+strain_range)/(1-poisson*strain_range)**2/np.prod(initdims), '--')\n",
    "line.set_label(\"Expected density\")\n",
    "plt.legend()\n",
    "\n",
    "plt.xlabel(\"Imposed strain\")\n",
    "plt.ylabel(\"Density\")\n",
    "\n",
    "plt.savefig(\"results/density.svg\")"
   ]
  },
  {
   "cell_type": "code",
   "execution_count": null,
   "metadata": {},
   "outputs": [],
   "source": [
    "plt.figure(figsize=(6, 4))\n",
    "\n",
    "for i in range(3, 10):\n",
    "    density = np.lib.format.open_memmap(os.path.join(results_dir, \"whole_{}/density_output.npy\".format(i))\n",
    "    \n",
    "    line, = plt.plot(strain_range, np.std(density, axis=1))\n",
    "    line.set_label(\"{}x{}x{}\".format(i, i, i))\n",
    "    plt.legend()\n",
    "\n",
    "\n",
    "plt.xlabel(\"Imposed strain\")\n",
    "plt.ylabel(\"Standard deviation of density\")\n",
    "\n",
    "plt.savefig(\"results/densitystd.svg\")"
   ]
  },
  {
   "cell_type": "markdown",
   "metadata": {},
   "source": [
    "All of these results are collected on the plane x == 0. There is at least a smoothing radius' width of padding around the sampled points shielding it from the outside.\n",
    "\n",
    "Let's check measured strain (average) vs imposed strain first. - a few samples within the plane here instead of average?\n",
    "\n",
    "These should be equal."
   ]
  },
  {
   "cell_type": "code",
   "execution_count": null,
   "metadata": {},
   "outputs": [],
   "source": [
    "plt.figure(figsize=(6, 4))\n",
    "\n",
    "for i in range(3, 10):\n",
    "    strain = np.lib.format.open_memmap(os.path.join(results_dir, \"whole_{}/strain_output.npy\".format(i)))\n",
    "    \n",
    "    line, = plt.plot(strain_range, strain[:,:,axis].sum(1)/strain.shape[1])\n",
    "    line.set_label(\"{}x{}x{}\".format(i, i, i))\n",
    "    plt.legend()\n",
    "\n",
    "line, = plt.plot(strain_range, strain_range, '--')\n",
    "line.set_label(\"Expected strain\")\n",
    "plt.legend()\n",
    "\n",
    "plt.xlabel(\"Imposed strain\")\n",
    "plt.ylabel(r'Approximated $\\varepsilon_{xx}$')\n",
    "plt.savefig(\"results/strain.svg\")"
   ]
  },
  {
   "cell_type": "code",
   "execution_count": null,
   "metadata": {},
   "outputs": [],
   "source": [
    "plt.figure(figsize=(6, 4))\n",
    "\n",
    "for i in range(3, 10):\n",
    "    strain = np.lib.format.open_memmap(os.path.join(results_dir, \"results/whole_{}/strain_output.npy\".format(i)))\n",
    "    \n",
    "    line, = plt.plot(strain_range, np.std(strain[:,:,axis], axis=1))\n",
    "    line.set_label(\"{}x{}x{}\".format(i, i, i))\n",
    "    plt.legend()\n",
    "\n",
    "\n",
    "plt.xlabel(\"Imposed strain\")\n",
    "plt.ylabel(r'Standard deviation of approximated $\\varepsilon_{xx}$')\n",
    "\n",
    "plt.savefig(\"results/strainstd.svg\")"
   ]
  },
  {
   "cell_type": "code",
   "execution_count": null,
   "metadata": {},
   "outputs": [],
   "source": [
    "plt.figure(figsize=(6, 4))\n",
    "\n",
    "for i in range(3, 10):\n",
    "    strain = np.lib.format.open_memmap(os.path.join(results_dir, \"whole_{}/strain_output.npy\".format(i)))\n",
    "    \n",
    "    line, = plt.plot(strain_range, strain[:,:,(axis + 1) % 3].sum(1)/strain.shape[1])\n",
    "    line.set_label(\"{}x{}x{}\".format(i, i, i))\n",
    "    plt.legend()\n",
    "\n",
    "line, = plt.plot(strain_range, -poisson*strain_range, '--')\n",
    "line.set_label(\"Expected strain\")\n",
    "plt.legend()\n",
    "\n",
    "plt.xlabel(\"Imposed strain\")\n",
    "plt.ylabel(r'Approximated $\\varepsilon_{yy}$')\n",
    "plt.savefig(\"results/strainax1.svg\")"
   ]
  },
  {
   "cell_type": "code",
   "execution_count": null,
   "metadata": {},
   "outputs": [],
   "source": [
    "plt.figure(figsize=(6, 4))\n",
    "\n",
    "for i in range(3, 10):\n",
    "    strain = np.lib.format.open_memmap(os.path.join(results_dir, \"results/whole_{}/strain_output.npy\".format(i)))\n",
    "    \n",
    "    line, = plt.plot(strain_range, strain[:,:,(axis + 2) % 3].sum(1)/strain.shape[1])\n",
    "    line.set_label(\"{}x{}x{}\".format(i, i, i))\n",
    "    plt.legend()\n",
    "\n",
    "line, = plt.plot(strain_range, -poisson*strain_range, '--')\n",
    "line.set_label(\"Expected strain\")\n",
    "plt.legend()\n",
    "\n",
    "plt.xlabel(\"Imposed strain\")\n",
    "plt.ylabel(r'Approximated $\\varepsilon_{zz}}$')\n",
    "plt.savefig(\"results/strainax2.svg\")"
   ]
  },
  {
   "cell_type": "markdown",
   "metadata": {},
   "source": [
    "Next, stress vs measured strain. This should be a straight line, or the code is very wrong (or the particles have not yet reached equilibrium and lateral strains are contributing to the result)."
   ]
  },
  {
   "cell_type": "code",
   "execution_count": null,
   "metadata": {},
   "outputs": [],
   "source": [
    "plt.figure(figsize=(6, 4))\n",
    "\n",
    "for i in range(3, 10):\n",
    "    stress = np.lib.format.open_memmap(os.path.join(results_dir, \"results/whole_{}/stress_output.npy\".format(i)))\n",
    "    #strain = np.lib.format.open_memmap(\"results/whole_{}/strain_output.npy\".format(i))\n",
    "    \n",
    "    #line, = plt.plot(strain[:,:,axis].sum(1)/strain.shape[1], stress[:,:,axis].sum(1)/stress.shape[1])\n",
    "    line, = plt.plot(strain_range, stress[:,:,axis].sum(1)/stress.shape[1])\n",
    "    line.set_label(\"{}x{}x{}\".format(i, i, i))\n",
    "    plt.legend()\n",
    "\n",
    "stress_range = strain_range * ss.get_fields(\"youngs_modulus\")[0]\n",
    "line, = plt.plot(strain_range, stress_range, '--')\n",
    "line.set_label(\"Expected stress\")\n",
    "plt.legend()\n",
    "\n",
    "plt.xlabel(\"Imposed strain\")\n",
    "plt.ylabel(r'Axial stress ($\\sigma_{xx}$)')\n",
    "plt.savefig(\"results/stress.svg\")"
   ]
  },
  {
   "cell_type": "code",
   "execution_count": null,
   "metadata": {},
   "outputs": [],
   "source": [
    "plt.figure(figsize=(6, 4))\n",
    "\n",
    "for i in range(3, 10):\n",
    "    stress = np.lib.format.open_memmap(os.path.join(results_dir, \"whole_{}/stress_output.npy\".format(i)))\n",
    "    line, = plt.plot(strain_range, np.std(stress[:,:,axis], axis=1))\n",
    "    print(np.std(stress[1,:,axis])/stress[1,:,axis].sum()*stress.shape[1])\n",
    "    line.set_label(\"{}x{}x{}\".format(i, i, i))\n",
    "    plt.legend()\n",
    "\n",
    "plt.xlabel(\"Imposed strain\")\n",
    "plt.ylabel(r'Standard deviation of $\\sigma_{xx}$')\n",
    "plt.savefig(\"results/stressstd.svg\")"
   ]
  },
  {
   "cell_type": "markdown",
   "metadata": {},
   "source": [
    "Finally, unbalanced forces. Assuming no shear stress components, and a uniform stress distribution, the sum of the forces over the sampling plane should be equal to the plane's area multiplied by the axial stress."
   ]
  },
  {
   "cell_type": "code",
   "execution_count": null,
   "metadata": {},
   "outputs": [],
   "source": [
    "plt.figure(figsize=(10, 8))\n",
    "\n",
    "for i in range(3, 10):\n",
    "    cutoff_force = np.lib.format.open_memmap(os.path.join(results_dir, \"whole_{}/cutoff_force_output.npy\".format(i)))\n",
    "    stress = np.lib.format.open_memmap(os.path.join(results_dir, \"results/whole_{}/stress_output.npy\".format(i)))\n",
    "    \n",
    "    line, = plt.plot(stress[:,:,axis].sum(1)/stress.shape[1], cutoff_force[:,:,axis].sum(1))\n",
    "    line.set_label(\"{}x{}x{}\".format(i, i, i))\n",
    "    plt.legend()\n",
    "\n",
    "expected_force = initdims[otheraxis1] * initdims[otheraxis2] / 4 * stress_range\n",
    "line, = plt.plot(stress_range, expected_force, '--')\n",
    "line.set_label(\"Expected force\")\n",
    "plt.legend()\n",
    "\n",
    "plt.xlabel(\"Axial stress\")\n",
    "plt.ylabel(\"Planar force2.0\")"
   ]
  },
  {
   "cell_type": "code",
   "execution_count": null,
   "metadata": {},
   "outputs": [],
   "source": [
    "from scripts.historyplayer import HistoryPlayer\n",
    "\n",
    "h = HistoryPlayer()"
   ]
  },
  {
   "cell_type": "code",
   "execution_count": null,
   "metadata": {},
   "outputs": [],
   "source": [
    "h.play(\"results/whole_4\")"
   ]
  },
  {
   "cell_type": "code",
   "execution_count": null,
   "metadata": {},
   "outputs": [],
   "source": []
  }
 ],
 "metadata": {
  "kernelspec": {
   "display_name": "Python 3",
   "language": "python",
   "name": "python3"
  },
  "language_info": {
   "codemirror_mode": {
    "name": "ipython",
    "version": 3
   },
   "file_extension": ".py",
   "mimetype": "text/x-python",
   "name": "python",
   "nbconvert_exporter": "python",
   "pygments_lexer": "ipython3",
   "version": "3.6.4"
  }
 },
 "nbformat": 4,
 "nbformat_minor": 2
}
