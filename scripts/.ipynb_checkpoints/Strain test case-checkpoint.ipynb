{
 "cells": [
  {
   "cell_type": "markdown",
   "metadata": {
    "deletable": true,
    "editable": true
   },
   "source": [
    "# Strain test case\n",
    "\n",
    "This notebook demonstrates the StrainTest class. A typical case is run and the raw results are manipulated to show the overall relationship between stress and strain."
   ]
  },
  {
   "cell_type": "markdown",
   "metadata": {
    "deletable": true,
    "editable": true
   },
   "source": [
    "## Set up the test parameters\n",
    "\n",
    "First we need to change directory, so that the linked SPH library can find the necessary files."
   ]
  },
  {
   "cell_type": "code",
   "execution_count": null,
   "metadata": {
    "collapsed": true
   },
   "outputs": [],
   "source": [
    "import os\n",
    "\n",
    "os.chdir('..')"
   ]
  },
  {
   "cell_type": "markdown",
   "metadata": {},
   "source": [
    "### Particle system"
   ]
  },
  {
   "cell_type": "code",
   "execution_count": null,
   "metadata": {
    "collapsed": false,
    "deletable": true,
    "editable": true
   },
   "outputs": [],
   "source": [
    "from scripts.sph import systems\n",
    "\n",
    "ss = systems.StrainSolid()"
   ]
  },
  {
   "cell_type": "markdown",
   "metadata": {
    "deletable": true,
    "editable": true
   },
   "source": [
    "### Output particles"
   ]
  },
  {
   "cell_type": "code",
   "execution_count": null,
   "metadata": {
    "collapsed": false,
    "deletable": true,
    "editable": true
   },
   "outputs": [],
   "source": [
    "import numpy as np\n",
    "\n",
    "axis = 0\n",
    "\n",
    "x, y, z = np.meshgrid(np.arange(15), np.arange(8), np.arange(4), indexing='ij')\n",
    "\n",
    "history_particles = np.vstack((x.flatten(), y.flatten(), z.flatten())).T\n",
    "output_particles = history_particles[history_particles[:, axis] == 0, :]"
   ]
  },
  {
   "cell_type": "markdown",
   "metadata": {
    "deletable": true,
    "editable": true
   },
   "source": [
    "### Everything else"
   ]
  },
  {
   "cell_type": "code",
   "execution_count": null,
   "metadata": {
    "collapsed": true,
    "deletable": true,
    "editable": true
   },
   "outputs": [],
   "source": [
    "straintest_params = {\n",
    "    \"strain_range\": np.linspace(-0.5, 0.5, num=10),\n",
    "    \"axis\": axis,\n",
    "    \"strain_rate\": 0.1,\n",
    "    \"stabilisation_time\": 3.5,\n",
    "    \"initial_dimensions\": np.array([1.5, 0.8, 0.4]),\n",
    "    \"particle_dimensions\": np.array([15, 8, 4]),\n",
    "    \"total_mass\": 10.0,\n",
    "    \"strain_solid\": ss,\n",
    "    \"output_particles\": output_particles,\n",
    "    \"output_fields\": [\"position\", \"force\"],\n",
    "    \"history_particles\": \"all\",\n",
    "    \"history_fields\": [\"position\"]\n",
    "}"
   ]
  },
  {
   "cell_type": "markdown",
   "metadata": {
    "deletable": true,
    "editable": true
   },
   "source": [
    "## Run the test"
   ]
  },
  {
   "cell_type": "code",
   "execution_count": null,
   "metadata": {
    "collapsed": false,
    "deletable": true,
    "editable": true
   },
   "outputs": [],
   "source": [
    "from scripts.straintest import StrainTest\n",
    "\n",
    "sph.init_opencl()\n",
    "\n",
    "st = StrainTest(**straintest_params)\n",
    "\n",
    "st.run()"
   ]
  },
  {
   "cell_type": "markdown",
   "metadata": {
    "deletable": true,
    "editable": true
   },
   "source": [
    "## We can look at the results by animating the test history\n",
    "\n",
    "Because we specified \"history_particles\": \"all\" and \"history_fields\": [\"position\"], the position of every particle throughout the simulation has been recorded."
   ]
  },
  {
   "cell_type": "code",
   "execution_count": null,
   "metadata": {
    "collapsed": false,
    "deletable": true,
    "editable": true
   },
   "outputs": [],
   "source": [
    "from scripts.historyplayer import HistoryPlayer\n",
    "\n",
    "h = HistoryPlayer(st.history)\n",
    "\n",
    "h.play()"
   ]
  },
  {
   "cell_type": "code",
   "execution_count": null,
   "metadata": {
    "collapsed": true
   },
   "outputs": [],
   "source": []
  }
 ],
 "metadata": {
  "kernelspec": {
   "display_name": "Python 3",
   "language": "python",
   "name": "python3"
  },
  "language_info": {
   "codemirror_mode": {
    "name": "ipython",
    "version": 3
   },
   "file_extension": ".py",
   "mimetype": "text/x-python",
   "name": "python",
   "nbconvert_exporter": "python",
   "pygments_lexer": "ipython3",
   "version": "3.6.0"
  }
 },
 "nbformat": 4,
 "nbformat_minor": 2
}
