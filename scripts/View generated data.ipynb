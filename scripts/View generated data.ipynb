{
 "cells": [
  {
   "cell_type": "code",
   "execution_count": 1,
   "metadata": {
    "collapsed": true
   },
   "outputs": [],
   "source": [
    "import os\n",
    "\n",
    "os.chdir('..')"
   ]
  },
  {
   "cell_type": "code",
   "execution_count": 2,
   "metadata": {},
   "outputs": [
    {
     "name": "stderr",
     "output_type": "stream",
     "text": [
      "INFO: Could not import backend \"PyQt4\":\n",
      "No module named 'PyQt4'\n"
     ]
    },
    {
     "name": "stdout",
     "output_type": "stream",
     "text": [
      "Particle 56 at frame 0:\n",
      "position: [ 0.30000001  0.2         0.        ]\n",
      "stress: [ -8.27842314e-07  -3.31136960e-07   0.00000000e+00   1.23270683e-08\n",
      "   1.49719366e-08   1.76845507e-08]\n",
      "deformation:\n",
      "[[  9.99999940e-01  -3.93313659e-10   6.79682588e-10]\n",
      " [  3.35181061e-09   1.00000000e+00   5.81973969e-10]\n",
      " [  2.91358337e-09   3.66231889e-09   9.99999940e-01]]\n",
      "force_elastic: [  7.31770866e-10  -2.12143858e-09   2.58804866e-10]\n",
      "density: 28.049304962158203\n",
      "force_viscous: [ 0.  0.  0.]\n",
      "Particle 57 at frame 3850:\n",
      "position: [ 0.36222175  0.1898898   0.10030174]\n",
      "stress: [  3.35509872e+00   1.03499621e-01   0.00000000e+00   1.12399720e-02\n",
      "  -3.45125445e-04  -6.04645524e-04]\n",
      "deformation:\n",
      "[[  1.22216666e+00   7.31386652e-04   5.17684384e-04]\n",
      " [  1.11290149e-03   9.48374093e-01   9.29864997e-04]\n",
      " [ -4.72030661e-04  -1.15365267e-03   1.00244606e+00]]\n",
      "force_elastic: [  5.87427166e-07  -5.67186653e-05  -3.04319292e-06]\n",
      "density: 23.395483016967773\n",
      "force_viscous: [ -1.29239825e-05  -1.78477894e-05  -2.66294961e-07]\n",
      "Particle 126 at frame 3850:\n",
      "position: [ 0.12078872  0.28457457  0.40089315]\n",
      "stress: [  3.35978937e+00   1.03219330e-01   0.00000000e+00   3.64282448e-03\n",
      "   3.19687475e-04  -7.49211060e-03]\n",
      "deformation:\n",
      "[[  1.22217023e+00  -6.51020149e-04   8.94983183e-04]\n",
      " [  1.05482899e-03   9.44589913e-01  -1.54339825e-03]\n",
      " [ -7.00432749e-04  -4.30943153e-04   1.01739800e+00]]\n",
      "force_elastic: [ -1.08544482e-05  -9.40496393e-05   4.78276888e-06]\n",
      "density: 23.344736099243164\n",
      "force_viscous: [ -8.97332211e-06   1.03109996e-05  -1.47992955e-06]\n",
      "Particle 15 at frame 3850:\n",
      "position: [ 0.          0.2847721   0.30038267]\n",
      "stress: [  3.03735209e+00   5.01220897e-02   0.00000000e+00  -2.63290598e-08\n",
      "  -1.20991164e-08  -4.19112667e-03]\n",
      "deformation:\n",
      "[[  1.20617318e+00  -5.39581657e-10  -1.15839760e-09]\n",
      " [ -3.65836716e-09   9.46806848e-01  -1.16063355e-04]\n",
      " [ -7.86047394e-10  -1.06881943e-03   1.00272989e+00]]\n",
      "force_elastic: [  8.73114914e-11  -8.27668118e-05   3.12425368e-06]\n",
      "density: 23.99094009399414\n",
      "force_viscous: [ -1.99899206e-13   1.19686019e-05   3.11645476e-06]\n"
     ]
    }
   ],
   "source": [
    "from scripts.historyplayer_vispy import play_history\n",
    "\n",
    "play_history(\"results/whole_4\")"
   ]
  },
  {
   "cell_type": "code",
   "execution_count": null,
   "metadata": {
    "collapsed": true
   },
   "outputs": [],
   "source": [
    "%matplotlib notebook\n",
    "\n",
    "import matplotlib.pyplot as plt\n",
    "\n",
    "plt.rcParams['figure.figsize'] = (9.0, 8.0)"
   ]
  },
  {
   "cell_type": "code",
   "execution_count": null,
   "metadata": {
    "collapsed": true
   },
   "outputs": [],
   "source": [
    "from scripts.simulation_display_notebook import create_history_figure, print_particle_info"
   ]
  },
  {
   "cell_type": "code",
   "execution_count": null,
   "metadata": {
    "collapsed": true
   },
   "outputs": [],
   "source": [
    "create_history_figure(\"results/whole_4\", 1100)"
   ]
  },
  {
   "cell_type": "code",
   "execution_count": null,
   "metadata": {
    "collapsed": true
   },
   "outputs": [],
   "source": [
    "import matplotlib\n",
    "matplotlib.get_backend()"
   ]
  },
  {
   "cell_type": "code",
   "execution_count": null,
   "metadata": {
    "collapsed": true
   },
   "outputs": [],
   "source": [
    "print_particle_info(\"results/whole_4\", 93, 1100)"
   ]
  },
  {
   "cell_type": "code",
   "execution_count": null,
   "metadata": {
    "collapsed": true
   },
   "outputs": [],
   "source": []
  }
 ],
 "metadata": {
  "kernelspec": {
   "display_name": "Python 3",
   "language": "python",
   "name": "python3"
  },
  "language_info": {
   "codemirror_mode": {
    "name": "ipython",
    "version": 3
   },
   "file_extension": ".py",
   "mimetype": "text/x-python",
   "name": "python",
   "nbconvert_exporter": "python",
   "pygments_lexer": "ipython3",
   "version": "3.6.1"
  }
 },
 "nbformat": 4,
 "nbformat_minor": 2
}
